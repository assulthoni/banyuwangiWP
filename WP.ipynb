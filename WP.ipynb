{
 "cells": [
  {
   "cell_type": "code",
   "execution_count": 157,
   "metadata": {},
   "outputs": [],
   "source": [
    "import pandas as pd\n",
    "import numpy as np\n",
    "# !pip install folium\n",
    "import folium\n",
    "from folium.plugins import MarkerCluster"
   ]
  },
  {
   "cell_type": "code",
   "execution_count": 133,
   "metadata": {},
   "outputs": [],
   "source": [
    "import torch\n",
    "import torch.nn.functional as F\n",
    "\n",
    "from transformers import BertForSequenceClassification, BertConfig\n",
    "from transformers import BertTokenizer"
   ]
  },
  {
   "cell_type": "code",
   "execution_count": 134,
   "metadata": {},
   "outputs": [
    {
     "data": {
      "text/html": [
       "<div>\n",
       "<style scoped>\n",
       "    .dataframe tbody tr th:only-of-type {\n",
       "        vertical-align: middle;\n",
       "    }\n",
       "\n",
       "    .dataframe tbody tr th {\n",
       "        vertical-align: top;\n",
       "    }\n",
       "\n",
       "    .dataframe thead th {\n",
       "        text-align: right;\n",
       "    }\n",
       "</style>\n",
       "<table border=\"1\" class=\"dataframe\">\n",
       "  <thead>\n",
       "    <tr style=\"text-align: right;\">\n",
       "      <th></th>\n",
       "      <th>id</th>\n",
       "      <th>Business_Name</th>\n",
       "      <th>Address</th>\n",
       "      <th>Rating</th>\n",
       "      <th>Total_Reviews</th>\n",
       "      <th>Lat</th>\n",
       "      <th>Lng</th>\n",
       "      <th>URL</th>\n",
       "      <th>User_Name</th>\n",
       "      <th>User_URL</th>\n",
       "      <th>...</th>\n",
       "      <th>User_Avatar</th>\n",
       "      <th>User_Reviews</th>\n",
       "      <th>Publish_date</th>\n",
       "      <th>Stars</th>\n",
       "      <th>Stars_External</th>\n",
       "      <th>Source</th>\n",
       "      <th>Review</th>\n",
       "      <th>Review_Photos</th>\n",
       "      <th>Owner_Response</th>\n",
       "      <th>Unnamed: 20</th>\n",
       "    </tr>\n",
       "  </thead>\n",
       "  <tbody>\n",
       "    <tr>\n",
       "      <th>0</th>\n",
       "      <td>31</td>\n",
       "      <td>Warung Pintar</td>\n",
       "      <td>Kendal, Sragi, Songgon, Banyuwangi Regency, Ea...</td>\n",
       "      <td>5.0</td>\n",
       "      <td>(1)</td>\n",
       "      <td>-8.258615</td>\n",
       "      <td>114.177442</td>\n",
       "      <td>https://www.google.com/maps/place/Warung+Pinta...</td>\n",
       "      <td>Noer Hoeda</td>\n",
       "      <td>https://www.google.com/maps/contrib/1054841379...</td>\n",
       "      <td>...</td>\n",
       "      <td>https://lh6.googleusercontent.com/-uM71JNMnj5g...</td>\n",
       "      <td>1 review</td>\n",
       "      <td>9 months ago</td>\n",
       "      <td>5 stars</td>\n",
       "      <td>NaN</td>\n",
       "      <td>NaN</td>\n",
       "      <td>(Translated by Google) Coffee, snack, snack .....</td>\n",
       "      <td>https://lh5.googleusercontent.com/p/AF1QipPWqA...</td>\n",
       "      <td>NaN</td>\n",
       "      <td>NaN</td>\n",
       "    </tr>\n",
       "    <tr>\n",
       "      <th>1</th>\n",
       "      <td>30</td>\n",
       "      <td>Warung pintar</td>\n",
       "      <td>Jl. H Ikhsan, Sukomukti, Kesilir, Siliragung, ...</td>\n",
       "      <td>1.0</td>\n",
       "      <td>(1)</td>\n",
       "      <td>-8.524533</td>\n",
       "      <td>114.110316</td>\n",
       "      <td>https://www.google.com/maps/place/Warung+pinta...</td>\n",
       "      <td>Master Geblek</td>\n",
       "      <td>https://www.google.com/maps/contrib/1180506209...</td>\n",
       "      <td>...</td>\n",
       "      <td>https://lh6.googleusercontent.com/-dEjDjqYQOOI...</td>\n",
       "      <td>NaN</td>\n",
       "      <td>11 months ago</td>\n",
       "      <td>1 star</td>\n",
       "      <td>NaN</td>\n",
       "      <td>NaN</td>\n",
       "      <td>NaN</td>\n",
       "      <td>NaN</td>\n",
       "      <td>NaN</td>\n",
       "      <td>NaN</td>\n",
       "    </tr>\n",
       "    <tr>\n",
       "      <th>2</th>\n",
       "      <td>29</td>\n",
       "      <td>WARUNG PINTAR SUMBERWARU1</td>\n",
       "      <td>sumberwaru, Sumberwaru, Tamanagung, Cluring, K...</td>\n",
       "      <td>5.0</td>\n",
       "      <td>(2)</td>\n",
       "      <td>-8.414871</td>\n",
       "      <td>114.209468</td>\n",
       "      <td>https://www.google.com/maps/place/WARUNG+PINTA...</td>\n",
       "      <td>BENY GUNTORO</td>\n",
       "      <td>https://www.google.com/maps/contrib/1006872349...</td>\n",
       "      <td>...</td>\n",
       "      <td>https://lh4.googleusercontent.com/-W71QajaHG-U...</td>\n",
       "      <td>NaN</td>\n",
       "      <td>7 months ago</td>\n",
       "      <td>5 stars</td>\n",
       "      <td>NaN</td>\n",
       "      <td>NaN</td>\n",
       "      <td>NaN</td>\n",
       "      <td>NaN</td>\n",
       "      <td>NaN</td>\n",
       "      <td>NaN</td>\n",
       "    </tr>\n",
       "    <tr>\n",
       "      <th>3</th>\n",
       "      <td>28</td>\n",
       "      <td>WARUNG PINTAR SUMBERWARU1</td>\n",
       "      <td>sumberwaru, Sumberwaru, Tamanagung, Cluring, K...</td>\n",
       "      <td>5.0</td>\n",
       "      <td>(2)</td>\n",
       "      <td>-8.414871</td>\n",
       "      <td>114.209468</td>\n",
       "      <td>https://www.google.com/maps/place/WARUNG+PINTA...</td>\n",
       "      <td>Adhiatma D Saputra</td>\n",
       "      <td>https://www.google.com/maps/contrib/1092482470...</td>\n",
       "      <td>...</td>\n",
       "      <td>https://lh6.googleusercontent.com/-ljn53OR3co4...</td>\n",
       "      <td>2 reviews</td>\n",
       "      <td>2 months ago</td>\n",
       "      <td>5 stars</td>\n",
       "      <td>NaN</td>\n",
       "      <td>NaN</td>\n",
       "      <td>(Translated by Google) The trader is funny,\\r\\...</td>\n",
       "      <td>NaN</td>\n",
       "      <td>NaN</td>\n",
       "      <td>NaN</td>\n",
       "    </tr>\n",
       "    <tr>\n",
       "      <th>4</th>\n",
       "      <td>27</td>\n",
       "      <td>Warung Pintar Rakyat</td>\n",
       "      <td>Sentong, Komis Wetan, Wonosobo, Kec. Srono, Ka...</td>\n",
       "      <td>5.0</td>\n",
       "      <td>(2)</td>\n",
       "      <td>-8.390776</td>\n",
       "      <td>114.289773</td>\n",
       "      <td>https://www.google.com/maps/place/Warung+Pinta...</td>\n",
       "      <td>rudi golkar</td>\n",
       "      <td>https://www.google.com/maps/contrib/1097027652...</td>\n",
       "      <td>...</td>\n",
       "      <td>https://lh3.googleusercontent.com/-LtZemhZ92no...</td>\n",
       "      <td>2 reviews</td>\n",
       "      <td>7 months ago</td>\n",
       "      <td>5 stars</td>\n",
       "      <td>NaN</td>\n",
       "      <td>NaN</td>\n",
       "      <td>(Translated by Google) Comfortable, smart, and...</td>\n",
       "      <td>https://lh5.googleusercontent.com/p/AF1QipN0tl...</td>\n",
       "      <td>NaN</td>\n",
       "      <td>NaN</td>\n",
       "    </tr>\n",
       "  </tbody>\n",
       "</table>\n",
       "<p>5 rows × 21 columns</p>\n",
       "</div>"
      ],
      "text/plain": [
       "   id              Business_Name  \\\n",
       "0  31              Warung Pintar   \n",
       "1  30              Warung pintar   \n",
       "2  29  WARUNG PINTAR SUMBERWARU1   \n",
       "3  28  WARUNG PINTAR SUMBERWARU1   \n",
       "4  27       Warung Pintar Rakyat   \n",
       "\n",
       "                                             Address  Rating Total_Reviews  \\\n",
       "0  Kendal, Sragi, Songgon, Banyuwangi Regency, Ea...     5.0           (1)   \n",
       "1  Jl. H Ikhsan, Sukomukti, Kesilir, Siliragung, ...     1.0           (1)   \n",
       "2  sumberwaru, Sumberwaru, Tamanagung, Cluring, K...     5.0           (2)   \n",
       "3  sumberwaru, Sumberwaru, Tamanagung, Cluring, K...     5.0           (2)   \n",
       "4  Sentong, Komis Wetan, Wonosobo, Kec. Srono, Ka...     5.0           (2)   \n",
       "\n",
       "        Lat         Lng                                                URL  \\\n",
       "0 -8.258615  114.177442  https://www.google.com/maps/place/Warung+Pinta...   \n",
       "1 -8.524533  114.110316  https://www.google.com/maps/place/Warung+pinta...   \n",
       "2 -8.414871  114.209468  https://www.google.com/maps/place/WARUNG+PINTA...   \n",
       "3 -8.414871  114.209468  https://www.google.com/maps/place/WARUNG+PINTA...   \n",
       "4 -8.390776  114.289773  https://www.google.com/maps/place/Warung+Pinta...   \n",
       "\n",
       "            User_Name                                           User_URL  ...  \\\n",
       "0          Noer Hoeda  https://www.google.com/maps/contrib/1054841379...  ...   \n",
       "1       Master Geblek  https://www.google.com/maps/contrib/1180506209...  ...   \n",
       "2        BENY GUNTORO  https://www.google.com/maps/contrib/1006872349...  ...   \n",
       "3  Adhiatma D Saputra  https://www.google.com/maps/contrib/1092482470...  ...   \n",
       "4         rudi golkar  https://www.google.com/maps/contrib/1097027652...  ...   \n",
       "\n",
       "                                         User_Avatar User_Reviews  \\\n",
       "0  https://lh6.googleusercontent.com/-uM71JNMnj5g...     1 review   \n",
       "1  https://lh6.googleusercontent.com/-dEjDjqYQOOI...          NaN   \n",
       "2  https://lh4.googleusercontent.com/-W71QajaHG-U...          NaN   \n",
       "3  https://lh6.googleusercontent.com/-ljn53OR3co4...    2 reviews   \n",
       "4  https://lh3.googleusercontent.com/-LtZemhZ92no...    2 reviews   \n",
       "\n",
       "    Publish_date    Stars Stars_External  Source  \\\n",
       "0   9 months ago  5 stars            NaN     NaN   \n",
       "1  11 months ago   1 star            NaN     NaN   \n",
       "2   7 months ago  5 stars            NaN     NaN   \n",
       "3   2 months ago  5 stars            NaN     NaN   \n",
       "4   7 months ago  5 stars            NaN     NaN   \n",
       "\n",
       "                                              Review  \\\n",
       "0  (Translated by Google) Coffee, snack, snack .....   \n",
       "1                                                NaN   \n",
       "2                                                NaN   \n",
       "3  (Translated by Google) The trader is funny,\\r\\...   \n",
       "4  (Translated by Google) Comfortable, smart, and...   \n",
       "\n",
       "                                       Review_Photos Owner_Response  \\\n",
       "0  https://lh5.googleusercontent.com/p/AF1QipPWqA...            NaN   \n",
       "1                                                NaN            NaN   \n",
       "2                                                NaN            NaN   \n",
       "3                                                NaN            NaN   \n",
       "4  https://lh5.googleusercontent.com/p/AF1QipN0tl...            NaN   \n",
       "\n",
       "  Unnamed: 20  \n",
       "0         NaN  \n",
       "1         NaN  \n",
       "2         NaN  \n",
       "3         NaN  \n",
       "4         NaN  \n",
       "\n",
       "[5 rows x 21 columns]"
      ]
     },
     "execution_count": 134,
     "metadata": {},
     "output_type": "execute_result"
    }
   ],
   "source": [
    "warung_pintar_data = pd.read_csv('wp_review_gmaps_191175109.csv')\n",
    "warung_pintar_data.head()"
   ]
  },
  {
   "cell_type": "code",
   "execution_count": 135,
   "metadata": {},
   "outputs": [
    {
     "data": {
      "text/plain": [
       "Index(['id', 'Business_Name', 'Address', 'Rating', 'Total_Reviews', 'Lat',\n",
       "       'Lng', 'URL', 'User_Name', 'User_URL', 'User_Title', 'User_Avatar',\n",
       "       'User_Reviews', 'Publish_date', 'Stars', 'Stars_External', 'Source',\n",
       "       'Review', 'Review_Photos', 'Owner_Response', 'Unnamed: 20'],\n",
       "      dtype='object')"
      ]
     },
     "execution_count": 135,
     "metadata": {},
     "output_type": "execute_result"
    }
   ],
   "source": [
    "warung_pintar_data.columns"
   ]
  },
  {
   "cell_type": "code",
   "execution_count": 136,
   "metadata": {},
   "outputs": [
    {
     "name": "stdout",
     "output_type": "stream",
     "text": [
      "<class 'pandas.core.frame.DataFrame'>\n",
      "RangeIndex: 31 entries, 0 to 30\n",
      "Data columns (total 7 columns):\n",
      " #   Column         Non-Null Count  Dtype  \n",
      "---  ------         --------------  -----  \n",
      " 0   Business_Name  31 non-null     object \n",
      " 1   Address        31 non-null     object \n",
      " 2   Rating         31 non-null     float64\n",
      " 3   Lat            31 non-null     float64\n",
      " 4   Lng            31 non-null     float64\n",
      " 5   Stars          31 non-null     object \n",
      " 6   Review         19 non-null     object \n",
      "dtypes: float64(3), object(4)\n",
      "memory usage: 1.8+ KB\n"
     ]
    }
   ],
   "source": [
    "wp_df = warung_pintar_data[['Business_Name', \n",
    "                            'Address', \n",
    "                            'Rating',\n",
    "                            'Lat', 'Lng',\n",
    "                            'Stars',\n",
    "                            'Review']]\n",
    "wp_df.info()"
   ]
  },
  {
   "cell_type": "code",
   "execution_count": 137,
   "metadata": {},
   "outputs": [
    {
     "data": {
      "text/html": [
       "<div>\n",
       "<style scoped>\n",
       "    .dataframe tbody tr th:only-of-type {\n",
       "        vertical-align: middle;\n",
       "    }\n",
       "\n",
       "    .dataframe tbody tr th {\n",
       "        vertical-align: top;\n",
       "    }\n",
       "\n",
       "    .dataframe thead th {\n",
       "        text-align: right;\n",
       "    }\n",
       "</style>\n",
       "<table border=\"1\" class=\"dataframe\">\n",
       "  <thead>\n",
       "    <tr style=\"text-align: right;\">\n",
       "      <th></th>\n",
       "      <th>Business_Name</th>\n",
       "      <th>Address</th>\n",
       "      <th>Rating</th>\n",
       "      <th>Lat</th>\n",
       "      <th>Lng</th>\n",
       "      <th>Stars</th>\n",
       "      <th>Review</th>\n",
       "    </tr>\n",
       "  </thead>\n",
       "  <tbody>\n",
       "    <tr>\n",
       "      <th>0</th>\n",
       "      <td>Warung Pintar</td>\n",
       "      <td>Kendal, Sragi, Songgon, Banyuwangi Regency, Ea...</td>\n",
       "      <td>5.0</td>\n",
       "      <td>-8.258615</td>\n",
       "      <td>114.177442</td>\n",
       "      <td>5 stars</td>\n",
       "      <td>(Translated by Google) Coffee, snack, snack .....</td>\n",
       "    </tr>\n",
       "    <tr>\n",
       "      <th>1</th>\n",
       "      <td>Warung pintar</td>\n",
       "      <td>Jl. H Ikhsan, Sukomukti, Kesilir, Siliragung, ...</td>\n",
       "      <td>1.0</td>\n",
       "      <td>-8.524533</td>\n",
       "      <td>114.110316</td>\n",
       "      <td>1 star</td>\n",
       "      <td>NaN</td>\n",
       "    </tr>\n",
       "    <tr>\n",
       "      <th>2</th>\n",
       "      <td>WARUNG PINTAR SUMBERWARU1</td>\n",
       "      <td>sumberwaru, Sumberwaru, Tamanagung, Cluring, K...</td>\n",
       "      <td>5.0</td>\n",
       "      <td>-8.414871</td>\n",
       "      <td>114.209468</td>\n",
       "      <td>5 stars</td>\n",
       "      <td>NaN</td>\n",
       "    </tr>\n",
       "    <tr>\n",
       "      <th>3</th>\n",
       "      <td>WARUNG PINTAR SUMBERWARU1</td>\n",
       "      <td>sumberwaru, Sumberwaru, Tamanagung, Cluring, K...</td>\n",
       "      <td>5.0</td>\n",
       "      <td>-8.414871</td>\n",
       "      <td>114.209468</td>\n",
       "      <td>5 stars</td>\n",
       "      <td>(Translated by Google) The trader is funny,\\r\\...</td>\n",
       "    </tr>\n",
       "    <tr>\n",
       "      <th>4</th>\n",
       "      <td>Warung Pintar Rakyat</td>\n",
       "      <td>Sentong, Komis Wetan, Wonosobo, Kec. Srono, Ka...</td>\n",
       "      <td>5.0</td>\n",
       "      <td>-8.390776</td>\n",
       "      <td>114.289773</td>\n",
       "      <td>5 stars</td>\n",
       "      <td>(Translated by Google) Comfortable, smart, and...</td>\n",
       "    </tr>\n",
       "  </tbody>\n",
       "</table>\n",
       "</div>"
      ],
      "text/plain": [
       "               Business_Name  \\\n",
       "0              Warung Pintar   \n",
       "1              Warung pintar   \n",
       "2  WARUNG PINTAR SUMBERWARU1   \n",
       "3  WARUNG PINTAR SUMBERWARU1   \n",
       "4       Warung Pintar Rakyat   \n",
       "\n",
       "                                             Address  Rating       Lat  \\\n",
       "0  Kendal, Sragi, Songgon, Banyuwangi Regency, Ea...     5.0 -8.258615   \n",
       "1  Jl. H Ikhsan, Sukomukti, Kesilir, Siliragung, ...     1.0 -8.524533   \n",
       "2  sumberwaru, Sumberwaru, Tamanagung, Cluring, K...     5.0 -8.414871   \n",
       "3  sumberwaru, Sumberwaru, Tamanagung, Cluring, K...     5.0 -8.414871   \n",
       "4  Sentong, Komis Wetan, Wonosobo, Kec. Srono, Ka...     5.0 -8.390776   \n",
       "\n",
       "          Lng    Stars                                             Review  \n",
       "0  114.177442  5 stars  (Translated by Google) Coffee, snack, snack .....  \n",
       "1  114.110316   1 star                                                NaN  \n",
       "2  114.209468  5 stars                                                NaN  \n",
       "3  114.209468  5 stars  (Translated by Google) The trader is funny,\\r\\...  \n",
       "4  114.289773  5 stars  (Translated by Google) Comfortable, smart, and...  "
      ]
     },
     "execution_count": 137,
     "metadata": {},
     "output_type": "execute_result"
    }
   ],
   "source": [
    "wp_df.head()"
   ]
  },
  {
   "cell_type": "code",
   "execution_count": 138,
   "metadata": {},
   "outputs": [
    {
     "name": "stderr",
     "output_type": "stream",
     "text": [
      "C:\\Users\\Ahmad Shohibus S\\AppData\\Roaming\\Python\\Python37\\site-packages\\pandas\\core\\series.py:4523: SettingWithCopyWarning: \n",
      "A value is trying to be set on a copy of a slice from a DataFrame\n",
      "\n",
      "See the caveats in the documentation: https://pandas.pydata.org/pandas-docs/stable/user_guide/indexing.html#returning-a-view-versus-a-copy\n",
      "  downcast=downcast,\n"
     ]
    }
   ],
   "source": [
    "wp_df['Review'].fillna('None', inplace=True)"
   ]
  },
  {
   "cell_type": "code",
   "execution_count": 139,
   "metadata": {},
   "outputs": [
    {
     "name": "stdout",
     "output_type": "stream",
     "text": [
      "<class 'pandas.core.frame.DataFrame'>\n",
      "RangeIndex: 31 entries, 0 to 30\n",
      "Data columns (total 7 columns):\n",
      " #   Column         Non-Null Count  Dtype  \n",
      "---  ------         --------------  -----  \n",
      " 0   Business_Name  31 non-null     object \n",
      " 1   Address        31 non-null     object \n",
      " 2   Rating         31 non-null     float64\n",
      " 3   Lat            31 non-null     float64\n",
      " 4   Lng            31 non-null     float64\n",
      " 5   Stars          31 non-null     object \n",
      " 6   Review         31 non-null     object \n",
      "dtypes: float64(3), object(4)\n",
      "memory usage: 1.8+ KB\n"
     ]
    }
   ],
   "source": [
    "wp_df.info()"
   ]
  },
  {
   "cell_type": "code",
   "execution_count": 144,
   "metadata": {},
   "outputs": [],
   "source": [
    "def extractAndCleanReview(review):\n",
    "    if review == '':\n",
    "        return ''\n",
    "    else:\n",
    "        import re\n",
    "        review = re.sub('\\W+',' ', review)\n",
    "        review = review.strip()\n",
    "        review = review.replace('\\r', '').replace('\\n', '')\n",
    "        if \"Original\" in review:\n",
    "            review = review.split(\"Original\")[1]\n",
    "        return review"
   ]
  },
  {
   "cell_type": "code",
   "execution_count": 146,
   "metadata": {},
   "outputs": [
    {
     "name": "stderr",
     "output_type": "stream",
     "text": [
      "c:\\program files\\python37\\lib\\site-packages\\ipykernel_launcher.py:1: SettingWithCopyWarning: \n",
      "A value is trying to be set on a copy of a slice from a DataFrame.\n",
      "Try using .loc[row_indexer,col_indexer] = value instead\n",
      "\n",
      "See the caveats in the documentation: https://pandas.pydata.org/pandas-docs/stable/user_guide/indexing.html#returning-a-view-versus-a-copy\n",
      "  \"\"\"Entry point for launching an IPython kernel.\n"
     ]
    }
   ],
   "source": [
    "wp_df['textReview'] = wp_df['Review'].apply(extractAndCleanReview)"
   ]
  },
  {
   "cell_type": "code",
   "execution_count": 147,
   "metadata": {},
   "outputs": [
    {
     "name": "stderr",
     "output_type": "stream",
     "text": [
      "Some weights of BertForSequenceClassification were not initialized from the model checkpoint at indobenchmark/indobert-base-p1 and are newly initialized: ['classifier.weight', 'classifier.bias']\n",
      "You should probably TRAIN this model on a down-stream task to be able to use it for predictions and inference.\n"
     ]
    },
    {
     "data": {
      "text/plain": [
       "<All keys matched successfully>"
      ]
     },
     "execution_count": 147,
     "metadata": {},
     "output_type": "execute_result"
    }
   ],
   "source": [
    "# Load Tokenizer and Config\n",
    "tokenizer = BertTokenizer.from_pretrained('indobenchmark/indobert-base-p1')\n",
    "config = BertConfig.from_pretrained(\"indobenchmark/indobert-base-p1\", num_labels=3)\n",
    "model = BertForSequenceClassification.from_pretrained(\"indobenchmark/indobert-base-p1\", config=config)\n",
    "model.load_state_dict(torch.load(\"model.bin\"))"
   ]
  },
  {
   "cell_type": "code",
   "execution_count": 154,
   "metadata": {},
   "outputs": [],
   "source": [
    "i2w = {0: 'positive', 1: 'neutral', 2: 'negative'}\n",
    "w2i = {'positive': 0, 'neutral': 1, 'negative': 2}"
   ]
  },
  {
   "cell_type": "code",
   "execution_count": 150,
   "metadata": {},
   "outputs": [],
   "source": [
    "def classifySentiment(text):\n",
    "    subwords = tokenizer.encode(text)\n",
    "    subwords = torch.LongTensor(subwords).view(1, -1).to(model.device)\n",
    "\n",
    "    logits = model(subwords)[0]\n",
    "    label = torch.topk(logits, k=1, dim=-1)[1].squeeze().item()\n",
    "    return i2w[label]"
   ]
  },
  {
   "cell_type": "code",
   "execution_count": 152,
   "metadata": {},
   "outputs": [
    {
     "name": "stderr",
     "output_type": "stream",
     "text": [
      "C:\\Users\\Ahmad Shohibus S\\AppData\\Roaming\\Python\\Python37\\site-packages\\pandas\\core\\indexing.py:659: SettingWithCopyWarning: \n",
      "A value is trying to be set on a copy of a slice from a DataFrame.\n",
      "Try using .loc[row_indexer,col_indexer] = value instead\n",
      "\n",
      "See the caveats in the documentation: https://pandas.pydata.org/pandas-docs/stable/user_guide/indexing.html#returning-a-view-versus-a-copy\n",
      "  self.obj[k] = np.nan\n",
      "c:\\program files\\python37\\lib\\site-packages\\ipykernel_launcher.py:1: SettingWithCopyWarning: \n",
      "A value is trying to be set on a copy of a slice from a DataFrame.\n",
      "Try using .loc[row_indexer,col_indexer] = value instead\n",
      "\n",
      "See the caveats in the documentation: https://pandas.pydata.org/pandas-docs/stable/user_guide/indexing.html#returning-a-view-versus-a-copy\n",
      "  \"\"\"Entry point for launching an IPython kernel.\n",
      "C:\\Users\\Ahmad Shohibus S\\AppData\\Roaming\\Python\\Python37\\site-packages\\pandas\\core\\indexing.py:1745: SettingWithCopyWarning: \n",
      "A value is trying to be set on a copy of a slice from a DataFrame.\n",
      "Try using .loc[row_indexer,col_indexer] = value instead\n",
      "\n",
      "See the caveats in the documentation: https://pandas.pydata.org/pandas-docs/stable/user_guide/indexing.html#returning-a-view-versus-a-copy\n",
      "  isetter(ilocs[0], value)\n"
     ]
    }
   ],
   "source": [
    "wp_df[['label']] = wp_df['textReview'].apply(classifySentiment)"
   ]
  },
  {
   "cell_type": "code",
   "execution_count": 153,
   "metadata": {},
   "outputs": [
    {
     "data": {
      "text/html": [
       "<div>\n",
       "<style scoped>\n",
       "    .dataframe tbody tr th:only-of-type {\n",
       "        vertical-align: middle;\n",
       "    }\n",
       "\n",
       "    .dataframe tbody tr th {\n",
       "        vertical-align: top;\n",
       "    }\n",
       "\n",
       "    .dataframe thead th {\n",
       "        text-align: right;\n",
       "    }\n",
       "</style>\n",
       "<table border=\"1\" class=\"dataframe\">\n",
       "  <thead>\n",
       "    <tr style=\"text-align: right;\">\n",
       "      <th></th>\n",
       "      <th>Business_Name</th>\n",
       "      <th>Address</th>\n",
       "      <th>Rating</th>\n",
       "      <th>Lat</th>\n",
       "      <th>Lng</th>\n",
       "      <th>Stars</th>\n",
       "      <th>Review</th>\n",
       "      <th>textReview</th>\n",
       "      <th>label</th>\n",
       "    </tr>\n",
       "  </thead>\n",
       "  <tbody>\n",
       "    <tr>\n",
       "      <th>0</th>\n",
       "      <td>Warung Pintar</td>\n",
       "      <td>Kendal, Sragi, Songgon, Banyuwangi Regency, Ea...</td>\n",
       "      <td>5.0</td>\n",
       "      <td>-8.258615</td>\n",
       "      <td>114.177442</td>\n",
       "      <td>5 stars</td>\n",
       "      <td>(Translated by Google) Coffee, snack, snack .....</td>\n",
       "      <td>Ngopi ngemi ngemil dll full music dan free wifi</td>\n",
       "      <td>positive</td>\n",
       "    </tr>\n",
       "    <tr>\n",
       "      <th>1</th>\n",
       "      <td>Warung pintar</td>\n",
       "      <td>Jl. H Ikhsan, Sukomukti, Kesilir, Siliragung, ...</td>\n",
       "      <td>1.0</td>\n",
       "      <td>-8.524533</td>\n",
       "      <td>114.110316</td>\n",
       "      <td>1 star</td>\n",
       "      <td>None</td>\n",
       "      <td>None</td>\n",
       "      <td>negative</td>\n",
       "    </tr>\n",
       "    <tr>\n",
       "      <th>2</th>\n",
       "      <td>WARUNG PINTAR SUMBERWARU1</td>\n",
       "      <td>sumberwaru, Sumberwaru, Tamanagung, Cluring, K...</td>\n",
       "      <td>5.0</td>\n",
       "      <td>-8.414871</td>\n",
       "      <td>114.209468</td>\n",
       "      <td>5 stars</td>\n",
       "      <td>None</td>\n",
       "      <td>None</td>\n",
       "      <td>negative</td>\n",
       "    </tr>\n",
       "    <tr>\n",
       "      <th>3</th>\n",
       "      <td>WARUNG PINTAR SUMBERWARU1</td>\n",
       "      <td>sumberwaru, Sumberwaru, Tamanagung, Cluring, K...</td>\n",
       "      <td>5.0</td>\n",
       "      <td>-8.414871</td>\n",
       "      <td>114.209468</td>\n",
       "      <td>5 stars</td>\n",
       "      <td>(Translated by Google) The trader is funny,\\r\\...</td>\n",
       "      <td>Pedagangnya lucu Konsumennya lebih lucu</td>\n",
       "      <td>positive</td>\n",
       "    </tr>\n",
       "    <tr>\n",
       "      <th>4</th>\n",
       "      <td>Warung Pintar Rakyat</td>\n",
       "      <td>Sentong, Komis Wetan, Wonosobo, Kec. Srono, Ka...</td>\n",
       "      <td>5.0</td>\n",
       "      <td>-8.390776</td>\n",
       "      <td>114.289773</td>\n",
       "      <td>5 stars</td>\n",
       "      <td>(Translated by Google) Comfortable, smart, and...</td>\n",
       "      <td>Nyaman mencerdaskan dan mengasyikkan</td>\n",
       "      <td>positive</td>\n",
       "    </tr>\n",
       "  </tbody>\n",
       "</table>\n",
       "</div>"
      ],
      "text/plain": [
       "               Business_Name  \\\n",
       "0              Warung Pintar   \n",
       "1              Warung pintar   \n",
       "2  WARUNG PINTAR SUMBERWARU1   \n",
       "3  WARUNG PINTAR SUMBERWARU1   \n",
       "4       Warung Pintar Rakyat   \n",
       "\n",
       "                                             Address  Rating       Lat  \\\n",
       "0  Kendal, Sragi, Songgon, Banyuwangi Regency, Ea...     5.0 -8.258615   \n",
       "1  Jl. H Ikhsan, Sukomukti, Kesilir, Siliragung, ...     1.0 -8.524533   \n",
       "2  sumberwaru, Sumberwaru, Tamanagung, Cluring, K...     5.0 -8.414871   \n",
       "3  sumberwaru, Sumberwaru, Tamanagung, Cluring, K...     5.0 -8.414871   \n",
       "4  Sentong, Komis Wetan, Wonosobo, Kec. Srono, Ka...     5.0 -8.390776   \n",
       "\n",
       "          Lng    Stars                                             Review  \\\n",
       "0  114.177442  5 stars  (Translated by Google) Coffee, snack, snack .....   \n",
       "1  114.110316   1 star                                               None   \n",
       "2  114.209468  5 stars                                               None   \n",
       "3  114.209468  5 stars  (Translated by Google) The trader is funny,\\r\\...   \n",
       "4  114.289773  5 stars  (Translated by Google) Comfortable, smart, and...   \n",
       "\n",
       "                                         textReview     label  \n",
       "0   Ngopi ngemi ngemil dll full music dan free wifi  positive  \n",
       "1                                              None  negative  \n",
       "2                                              None  negative  \n",
       "3           Pedagangnya lucu Konsumennya lebih lucu  positive  \n",
       "4              Nyaman mencerdaskan dan mengasyikkan  positive  "
      ]
     },
     "execution_count": 153,
     "metadata": {},
     "output_type": "execute_result"
    }
   ],
   "source": [
    "wp_df.head()"
   ]
  },
  {
   "cell_type": "code",
   "execution_count": 159,
   "metadata": {},
   "outputs": [
    {
     "name": "stderr",
     "output_type": "stream",
     "text": [
      "c:\\program files\\python37\\lib\\site-packages\\ipykernel_launcher.py:1: SettingWithCopyWarning: \n",
      "A value is trying to be set on a copy of a slice from a DataFrame.\n",
      "Try using .loc[row_indexer,col_indexer] = value instead\n",
      "\n",
      "See the caveats in the documentation: https://pandas.pydata.org/pandas-docs/stable/user_guide/indexing.html#returning-a-view-versus-a-copy\n",
      "  \"\"\"Entry point for launching an IPython kernel.\n"
     ]
    }
   ],
   "source": [
    "wp_df['color'] = wp_df['label'].map({'positive' : 'lightblue', 'neutral': 'lightgreen', 'negative': 'lightred'})"
   ]
  },
  {
   "cell_type": "code",
   "execution_count": 168,
   "metadata": {},
   "outputs": [
    {
     "name": "stderr",
     "output_type": "stream",
     "text": [
      "c:\\program files\\python37\\lib\\site-packages\\ipykernel_launcher.py:1: SettingWithCopyWarning: \n",
      "A value is trying to be set on a copy of a slice from a DataFrame.\n",
      "Try using .loc[row_indexer,col_indexer] = value instead\n",
      "\n",
      "See the caveats in the documentation: https://pandas.pydata.org/pandas-docs/stable/user_guide/indexing.html#returning-a-view-versus-a-copy\n",
      "  \"\"\"Entry point for launching an IPython kernel.\n"
     ]
    }
   ],
   "source": [
    "wp_df['text'] = 'Nama WP : \\n' + wp_df['Business_Name'] + ', Bintang : \\n' + wp_df['Stars'] + ', Review : \\n' + wp_df['textReview']"
   ]
  },
  {
   "cell_type": "code",
   "execution_count": 169,
   "metadata": {},
   "outputs": [],
   "source": [
    "locations = wp_df[['Lat', 'Lng']]\n",
    "locationslist = locations.values.tolist()\n",
    "\n",
    "arrtext = wp_df.text.to_numpy()\n",
    "arrcolor = wp_df.color.to_numpy()\n",
    "\n",
    "makercluster = MarkerCluster()\n",
    "mapfolium = folium.Map(location=[-8.2169235,114.3311312], zoom_start=12)\n",
    "makercluster = makercluster.add_to(mapfolium)\n",
    "\n",
    "for point in range(0, len(locationslist)):\n",
    "    folium.Marker(locationslist[point], popup = arrtext[point], icon = folium.Icon(color=arrcolor[point], icon_color='white',\n",
    "                     icon='male', angle=0, prefix='fa')).add_to(makercluster)"
   ]
  },
  {
   "cell_type": "code",
   "execution_count": 170,
   "metadata": {},
   "outputs": [
    {
     "data": {
      "text/html": [
       "<div style=\"width:100%;\"><div style=\"position:relative;width:100%;height:0;padding-bottom:60%;\"><span style=\"color:#565656\">Make this Notebook Trusted to load map: File -> Trust Notebook</span><iframe src=\"about:blank\" style=\"position:absolute;width:100%;height:100%;left:0;top:0;border:none !important;\" data-html=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 onload=\"this.contentDocument.open();this.contentDocument.write(atob(this.getAttribute('data-html')));this.contentDocument.close();\" allowfullscreen webkitallowfullscreen mozallowfullscreen></iframe></div></div>"
      ],
      "text/plain": [
       "<folium.folium.Map at 0x1c1b797e0f0>"
      ]
     },
     "execution_count": 170,
     "metadata": {},
     "output_type": "execute_result"
    }
   ],
   "source": [
    "mapfolium"
   ]
  },
  {
   "cell_type": "code",
   "execution_count": 171,
   "metadata": {},
   "outputs": [],
   "source": [
    "mapfolium.save('foliummap.html')"
   ]
  }
 ],
 "metadata": {
  "kernelspec": {
   "display_name": "Python 3",
   "language": "python",
   "name": "python3"
  },
  "language_info": {
   "codemirror_mode": {
    "name": "ipython",
    "version": 3
   },
   "file_extension": ".py",
   "mimetype": "text/x-python",
   "name": "python",
   "nbconvert_exporter": "python",
   "pygments_lexer": "ipython3",
   "version": "3.7.2"
  }
 },
 "nbformat": 4,
 "nbformat_minor": 2
}
